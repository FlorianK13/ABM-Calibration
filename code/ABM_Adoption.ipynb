{
 "cells": [
  {
   "cell_type": "markdown",
   "metadata": {},
   "source": [
    "# 1) Introduction\n",
    "\n",
    "This notebook contains additional information to the paper \"Efficiently Calibrating Agent-based Models of Innovation Diffusion\" (In Review process).\n",
    "  \n",
    "In the following code, we want to understand a new way of calibrating an agent-based model of Innovation Diffusion. Therefore we will implement a toy model together with its gradients and fit it to the adoption data of small-scale Photovoltaic installations in Germany. Of course, **the general framework is applicable to many other problems in the field of technology or behavioural adoption.**  \n",
    "  \n"
   ]
  },
  {
   "cell_type": "code",
   "execution_count": 1,
   "metadata": {},
   "outputs": [],
   "source": [
    "import numpy as np\n",
    "import matplotlib.pyplot as pl\n",
    "import pandas as pd"
   ]
  },
  {
   "cell_type": "markdown",
   "metadata": {},
   "source": [
    "# 2) Data preparation\n",
    "In the first part of the code, we will **prepare the data we need for our model.** First we will load the pandas dataframe *Countypd*, which already contains most of the info we need:  \n",
    "  \n",
    "1) The name of the county  \n",
    "2) The identification key  \n",
    "3) The number of the agents that live in the county  \n",
    "4) The incoming radiation (We will not use this directly, but it is part of the average earning for installing PV)  \n",
    "5) The population density of the county  \n",
    "6) The mean income tax (without units)  \n",
    "  \n",
    "These explanatory variables will not be able to reproduce the real data set of PV installtions in a good way, but we won't care about that since we're only interested in calibrating a toy model.\n"
   ]
  },
  {
   "cell_type": "code",
   "execution_count": 2,
   "metadata": {},
   "outputs": [
    {
     "data": {
      "text/html": [
       "<div>\n",
       "<style scoped>\n",
       "    .dataframe tbody tr th:only-of-type {\n",
       "        vertical-align: middle;\n",
       "    }\n",
       "\n",
       "    .dataframe tbody tr th {\n",
       "        vertical-align: top;\n",
       "    }\n",
       "\n",
       "    .dataframe thead th {\n",
       "        text-align: right;\n",
       "    }\n",
       "</style>\n",
       "<table border=\"1\" class=\"dataframe\">\n",
       "  <thead>\n",
       "    <tr style=\"text-align: right;\">\n",
       "      <th></th>\n",
       "      <th>county</th>\n",
       "      <th>county key</th>\n",
       "      <th>state</th>\n",
       "      <th>number agents</th>\n",
       "      <th>radiation</th>\n",
       "      <th>population density</th>\n",
       "      <th>mean income tax</th>\n",
       "    </tr>\n",
       "  </thead>\n",
       "  <tbody>\n",
       "    <tr>\n",
       "      <th>0</th>\n",
       "      <td>Freiburg im Breisgau</td>\n",
       "      <td>8311</td>\n",
       "      <td>8.0</td>\n",
       "      <td>16410.0</td>\n",
       "      <td>1182.4</td>\n",
       "      <td>1511</td>\n",
       "      <td>7.271844</td>\n",
       "    </tr>\n",
       "    <tr>\n",
       "      <th>1</th>\n",
       "      <td>Dillingen an der Donau</td>\n",
       "      <td>9773</td>\n",
       "      <td>9.0</td>\n",
       "      <td>26614.0</td>\n",
       "      <td>1215.4</td>\n",
       "      <td>122</td>\n",
       "      <td>6.642851</td>\n",
       "    </tr>\n",
       "    <tr>\n",
       "      <th>2</th>\n",
       "      <td>Nürnberg</td>\n",
       "      <td>9564</td>\n",
       "      <td>9.0</td>\n",
       "      <td>50926.0</td>\n",
       "      <td>1186.8</td>\n",
       "      <td>2780</td>\n",
       "      <td>6.738487</td>\n",
       "    </tr>\n",
       "    <tr>\n",
       "      <th>3</th>\n",
       "      <td>Neumarkt in der Oberpfalz</td>\n",
       "      <td>9373</td>\n",
       "      <td>9.0</td>\n",
       "      <td>33915.0</td>\n",
       "      <td>1197.2</td>\n",
       "      <td>100</td>\n",
       "      <td>6.664490</td>\n",
       "    </tr>\n",
       "    <tr>\n",
       "      <th>4</th>\n",
       "      <td>Rosenheim</td>\n",
       "      <td>9163</td>\n",
       "      <td>9.0</td>\n",
       "      <td>7858.0</td>\n",
       "      <td>1236.8</td>\n",
       "      <td>1707</td>\n",
       "      <td>7.013568</td>\n",
       "    </tr>\n",
       "    <tr>\n",
       "      <th>...</th>\n",
       "      <td>...</td>\n",
       "      <td>...</td>\n",
       "      <td>...</td>\n",
       "      <td>...</td>\n",
       "      <td>...</td>\n",
       "      <td>...</td>\n",
       "      <td>...</td>\n",
       "    </tr>\n",
       "    <tr>\n",
       "      <th>396</th>\n",
       "      <td>Altmarkkreis Salzwedel</td>\n",
       "      <td>15081</td>\n",
       "      <td>15.0</td>\n",
       "      <td>24213.0</td>\n",
       "      <td>1109.0</td>\n",
       "      <td>36</td>\n",
       "      <td>4.251962</td>\n",
       "    </tr>\n",
       "    <tr>\n",
       "      <th>397</th>\n",
       "      <td>Anhalt-Bitterfeld</td>\n",
       "      <td>15082</td>\n",
       "      <td>15.0</td>\n",
       "      <td>40902.0</td>\n",
       "      <td>1127.4</td>\n",
       "      <td>109</td>\n",
       "      <td>3.963499</td>\n",
       "    </tr>\n",
       "    <tr>\n",
       "      <th>398</th>\n",
       "      <td>Börde</td>\n",
       "      <td>15083</td>\n",
       "      <td>15.0</td>\n",
       "      <td>48260.0</td>\n",
       "      <td>1121.0</td>\n",
       "      <td>72</td>\n",
       "      <td>5.050583</td>\n",
       "    </tr>\n",
       "    <tr>\n",
       "      <th>399</th>\n",
       "      <td>Mittelsachsen</td>\n",
       "      <td>14522</td>\n",
       "      <td>14.0</td>\n",
       "      <td>67223.0</td>\n",
       "      <td>1129.2</td>\n",
       "      <td>144</td>\n",
       "      <td>4.127533</td>\n",
       "    </tr>\n",
       "    <tr>\n",
       "      <th>400</th>\n",
       "      <td>Erfurt</td>\n",
       "      <td>16051</td>\n",
       "      <td>16.0</td>\n",
       "      <td>20311.0</td>\n",
       "      <td>1111.0</td>\n",
       "      <td>793</td>\n",
       "      <td>5.209551</td>\n",
       "    </tr>\n",
       "  </tbody>\n",
       "</table>\n",
       "<p>401 rows × 7 columns</p>\n",
       "</div>"
      ],
      "text/plain": [
       "                        county  county key  state  number agents  radiation  \\\n",
       "0         Freiburg im Breisgau        8311    8.0        16410.0     1182.4   \n",
       "1       Dillingen an der Donau        9773    9.0        26614.0     1215.4   \n",
       "2                     Nürnberg        9564    9.0        50926.0     1186.8   \n",
       "3    Neumarkt in der Oberpfalz        9373    9.0        33915.0     1197.2   \n",
       "4                    Rosenheim        9163    9.0         7858.0     1236.8   \n",
       "..                         ...         ...    ...            ...        ...   \n",
       "396     Altmarkkreis Salzwedel       15081   15.0        24213.0     1109.0   \n",
       "397          Anhalt-Bitterfeld       15082   15.0        40902.0     1127.4   \n",
       "398                      Börde       15083   15.0        48260.0     1121.0   \n",
       "399              Mittelsachsen       14522   14.0        67223.0     1129.2   \n",
       "400                     Erfurt       16051   16.0        20311.0     1111.0   \n",
       "\n",
       "     population density  mean income tax  \n",
       "0                  1511         7.271844  \n",
       "1                   122         6.642851  \n",
       "2                  2780         6.738487  \n",
       "3                   100         6.664490  \n",
       "4                  1707         7.013568  \n",
       "..                  ...              ...  \n",
       "396                  36         4.251962  \n",
       "397                 109         3.963499  \n",
       "398                  72         5.050583  \n",
       "399                 144         4.127533  \n",
       "400                 793         5.209551  \n",
       "\n",
       "[401 rows x 7 columns]"
      ]
     },
     "execution_count": 2,
     "metadata": {},
     "output_type": "execute_result"
    }
   ],
   "source": [
    "Countypd=pd.read_csv(\"../data/PV_Dataframe.csv\").drop(\"Unnamed: 0\",axis=1)\n",
    "Countypd"
   ]
  },
  {
   "cell_type": "markdown",
   "metadata": {},
   "source": [
    "  \n",
    "  \n",
    "Finally, some of the data from the county dataframe is transferred to numpy arrays and normalized. "
   ]
  },
  {
   "cell_type": "code",
   "execution_count": 3,
   "metadata": {},
   "outputs": [],
   "source": [
    "PopDensity=np.array(Countypd[\"population density\"]).astype(float)\n",
    "PopDensity-=PopDensity.min()\n",
    "PopDensity/=PopDensity.max()\n",
    "\n",
    "Income=np.array(Countypd[\"mean income tax\"]).astype(float)\n",
    "Income-=Income.min()\n",
    "Income/=Income.max()"
   ]
  },
  {
   "cell_type": "markdown",
   "metadata": {},
   "source": [
    "The next data we load in is the *Earning matrix*, **which is the normalized earning an agent expects** when installing a 1 kWp PV system. It has different entries for each of the 401 counties and varies over the 18 steps in time. For simplicity, it was pre-calculated and depends on  \n",
    "1) The average yearly solar irradiation in county c  \n",
    "2) The Feed in Tarrif at time t  \n",
    "3) The average capital cost for installing 1 kWp of PV  \n",
    "4) The lending and deposit interest rates at time t  \n",
    "5) The self-consumption ratio  \n"
   ]
  },
  {
   "cell_type": "code",
   "execution_count": 4,
   "metadata": {},
   "outputs": [
    {
     "name": "stdout",
     "output_type": "stream",
     "text": [
      "The shape of the Earning matrix is (18, 401)\n",
      "The largest entry is 1.0, the smallest is 0.0.\n"
     ]
    },
    {
     "data": {
      "image/png": "[encoded data removed]",
      "text/plain": [
       "<Figure size 432x288 with 1 Axes>"
      ]
     },
     "metadata": {
      "needs_background": "light"
     },
     "output_type": "display_data"
    }
   ],
   "source": [
    "Earning=np.load(\"../data/Earning.npy\")\n",
    "print(f\"The shape of the Earning matrix is {Earning.shape}\")\n",
    "print(f\"The largest entry is {Earning.max()}, the smallest is {Earning.min()}.\")\n",
    "pl.errorbar(np.arange(18),Earning.mean(axis=1),Earning.var(axis=1)**0.5)\n",
    "pl.ylabel(\"Normalized earning for installing PV at time t\")\n",
    "pl.xlabel(\"t\")\n",
    "pl.show()"
   ]
  },
  {
   "cell_type": "markdown",
   "metadata": {},
   "source": [
    "Now we need the **Agent matrix to store all info about the individual agents** we need. The agent matrix consists of three columns. The first column is an identiciation number for each agent. The second column is the number of the county the agent lives in. The third column stores the info if the agent has adopted to the new technology and is either a 1 (adopted) or a 0 (not adopted). This third column will be updated at each timestep of the simulation.  \n",
    "  \n",
    "Note that the variable *Agent_Scale* shrinks down the model to achieve a faster computation. With the choosen value of 0.005, we do not use the original number of ~1.5e7 agents owning a house in Germany, but only 0.5% of that. Therefore, each agent in the simulation represents 200 agents in reality and the model has 79835 agents."
   ]
  },
  {
   "cell_type": "code",
   "execution_count": 5,
   "metadata": {},
   "outputs": [
    {
     "name": "stdout",
     "output_type": "stream",
     "text": [
      "(79835, 3)\n",
      "[1000    7    0]\n"
     ]
    }
   ],
   "source": [
    "from CreateData_GIT import MakeAgentArray\n",
    "\n",
    "Agent_Scale=0.005\n",
    "Agent_Array=MakeAgentArray(Countypd,Agent_Scale)\n",
    "\n",
    "print(Agent_Array.shape)\n",
    "print(Agent_Array[1000])"
   ]
  },
  {
   "cell_type": "markdown",
   "metadata": {},
   "source": [
    "At last, we need the **data set we want to model**, namely the number of new adopters between 2000 and 2019 in each county. "
   ]
  },
  {
   "cell_type": "code",
   "execution_count": 6,
   "metadata": {},
   "outputs": [
    {
     "data": {
      "image/png": "[encoded data removed]",
      "text/plain": [
       "<Figure size 432x288 with 1 Axes>"
      ]
     },
     "metadata": {
      "needs_background": "light"
     },
     "output_type": "display_data"
    },
    {
     "name": "stdout",
     "output_type": "stream",
     "text": [
      "The shape of the PV Dataset is (19, 401)\n"
     ]
    }
   ],
   "source": [
    "from CreateData_GIT import Load_PVData\n",
    "Y,Y_kummulative=Load_PVData()\n",
    "pl.plot(Y.sum(axis=1),label=\"New installations per year\")\n",
    "pl.plot(Y_kummulative.sum(axis=1),label=\"Total number of installations\")\n",
    "pl.legend()\n",
    "pl.show()\n",
    "print(f\"The shape of the PV Dataset is {Y.shape}\")"
   ]
  },
  {
   "cell_type": "markdown",
   "metadata": {},
   "source": [
    "One part of the explanatory data X should be some sort of opinion variable that reflects the opinion of agent i about adopting. This induces interaction among agents, e.g. if one chooses ideas like the *Relative Agreement model* [1,2]. In this toy model however, we draw a random initial opinion for each agent and change it randomly over time, where positive opinion changes are more likely than negative changes. This simplified opinion model has no interaction among agents and is much faster in terms of computation.\n",
    "  \n",
    "For each agent at every time t, the Opinion lies between -1 and 1. "
   ]
  },
  {
   "cell_type": "code",
   "execution_count": 7,
   "metadata": {},
   "outputs": [
    {
     "data": {
      "image/png": "[encoded data removed]",
      "text/plain": [
       "<Figure size 432x288 with 1 Axes>"
      ]
     },
     "metadata": {
      "needs_background": "light"
     },
     "output_type": "display_data"
    },
    {
     "data": {
      "image/png": "[encoded data removed]",
      "text/plain": [
       "<Figure size 432x288 with 1 Axes>"
      ]
     },
     "metadata": {
      "needs_background": "light"
     },
     "output_type": "display_data"
    }
   ],
   "source": [
    "from CreateData_GIT import SimpleOpinionStep\n",
    "Opinion=np.zeros((17,len(Agent_Array)))\n",
    "Opinion[0]=2*np.random.beta(2,8,size=len(Agent_Array))-1\n",
    "pl.hist(Opinion[0],bins=100,label=\"t=0\")\n",
    "for t in range(1,17):\n",
    "    Opinion=SimpleOpinionStep(Opinion,t)\n",
    "    pl.hist(Opinion[t],bins=100,label=\"t=\"+str(t))\n",
    "pl.ylabel(r\"$ \\# agents\\ with\\ opinion\\ o_i$\")\n",
    "pl.xlabel(r\"$o_i$\")\n",
    "pl.legend(ncol=2,bbox_to_anchor=(1,1))\n",
    "pl.show()\n",
    "pl.plot(Opinion.transpose()[100])\n",
    "pl.title(\"Opinion of one agent over time\")\n",
    "pl.ylabel(r\"$o_i$\")\n",
    "pl.xlabel(r\"$t$\")\n",
    "pl.show()"
   ]
  },
  {
   "cell_type": "markdown",
   "metadata": {},
   "source": [
    "# 3) Defining the model\n",
    "  \n",
    "For detailed information about the model, we refer to the work \"Efficiently Calibrating Agent-based Models of Innovation Diffusion\".  \n",
    "  \n",
    "First we define a **linear utility**. This utility is the sum over the fitting parameters *params_i* times the explanatory variables *X_i*. The higher the value of the utility becomes, the more likely is an adoption of the agent."
   ]
  },
  {
   "cell_type": "code",
   "execution_count": 8,
   "metadata": {},
   "outputs": [],
   "source": [
    "def utility_func(params,X):\n",
    "    utility=0.\n",
    "    for i in range(len(params)):\n",
    "        utility+=params[i]*X[i]\n",
    "    return utility"
   ]
  },
  {
   "cell_type": "markdown",
   "metadata": {},
   "source": [
    "Then we define the **function F, which maps the utility to an adoption probability** in [0,1]. Since we want to model a threshold adoption, the probability to adopt is 1 if the utility is positive and it is 0 if the utility is negative:"
   ]
  },
  {
   "cell_type": "code",
   "execution_count": 9,
   "metadata": {},
   "outputs": [],
   "source": [
    "def F(utility):\n",
    "    p_adopt=utility>0\n",
    "    return p_adopt"
   ]
  },
  {
   "cell_type": "markdown",
   "metadata": {},
   "source": [
    "Finally we reached the point where we **define the actual model**. The model function needs an array of four values as *params* and the number of years *Timesteps* as a whole number. The output is an array of the same shape as the PV installation array *Y*. It stands for the number of new adopters in each county for each point in time.  \n",
    "\n"
   ]
  },
  {
   "cell_type": "code",
   "execution_count": 10,
   "metadata": {},
   "outputs": [],
   "source": [
    "def Model(params,Timesteps,Agent_Array=Agent_Array,Countypd=Countypd,utility_func=utility_func,F=F,\n",
    "          PopDensity=PopDensity,Agent_Scale=Agent_Scale,\n",
    "          Income=Income,Earning=Earning):  \n",
    "    \"\"\"\n",
    "    The Model function takes the weights, number of timesteps and the Agent_Array (X) as input.\n",
    "    Its output is the number of new adopters in each county and each timestep t.\n",
    "    \"\"\"\n",
    "    \n",
    "    # Generate the part of X that is time independant\n",
    "    CountyofAgent=Agent_Array.transpose()[1]\n",
    "    X0=PopDensity[CountyofAgent]\n",
    "    X1=Income[CountyofAgent]\n",
    "    \n",
    "    # Generate an initial opinion\n",
    "    Opinion=np.zeros((Timesteps,len(Agent_Array)))\n",
    "    Opinion[0]=2*np.random.beta(2,8,size=len(Agent_Array))-1\n",
    "    \n",
    "    # Generate an individual threshold for each agent\n",
    "    threshold=np.random.beta(5,2,size=len(Agent_Array))\n",
    "    \n",
    "    # Define the PV_adopters matrix, which counts the number of new adopters at time t in county c\n",
    "    PV_adopters=np.zeros((Timesteps,len(Countypd)))\n",
    "    \n",
    "    # Agents_where is a matrix, that has a 1 at place (county,agent) \n",
    "    # if the agent lives in that county and a 0 if not. It is used to make the algorithm more efficient later\n",
    "    Agents_where=np.zeros((len(Countypd),len(Agent_Array))).astype(bool)\n",
    "    for i in range(len(Countypd)):\n",
    "        Agents_where[i]=Agent_Array.transpose()[1]==i\n",
    "    \n",
    "    for t in range(1,Timesteps):\n",
    "        # Generate the part of X that is time dependant\n",
    "        Opinion=SimpleOpinionStep(Opinion,t)\n",
    "        X2=(Opinion[t]+1)/2\n",
    "        X3=Earning[t][CountyofAgent]\n",
    "        \n",
    "        X=np.array([X0,X1,X2,X3])\n",
    "        \n",
    "        utility=utility_func(params,X)\n",
    "        p_adopt=F(utility-threshold)\n",
    "        # Update the adoption variable within the Agent matrix\n",
    "        Agent_Array[np.where(p_adopt==1)[0],2]=1\n",
    "        # Count the number of new adopters\n",
    "        PV_adopters[t]=np.stack((Agent_Array.transpose()[2],)*len(Countypd)).sum(axis=1,where=Agents_where)-PV_adopters[:t].sum(axis=0)\n",
    "        \n",
    "        print(f\"New adopters at time {t}: {(PV_adopters[t]/Agent_Scale).sum()}\")\n",
    "    PV_adopters/=Agent_Scale\n",
    "    \n",
    "    print(f\"Total number of adopters: {(PV_adopters).sum()}\")\n",
    "    return PV_adopters"
   ]
  },
  {
   "cell_type": "markdown",
   "metadata": {},
   "source": [
    "Now we can run the model for the first time with some initial parameters. "
   ]
  },
  {
   "cell_type": "code",
   "execution_count": 29,
   "metadata": {},
   "outputs": [
    {
     "name": "stdout",
     "output_type": "stream",
     "text": [
      "New adopters at time 1: 206600.0\n",
      "New adopters at time 2: 0.0\n",
      "New adopters at time 3: 31000.0\n",
      "New adopters at time 4: 994800.0\n",
      "New adopters at time 5: 0.0\n",
      "New adopters at time 6: 4200.0\n",
      "New adopters at time 7: 57000.0\n",
      "New adopters at time 8: 0.0\n",
      "New adopters at time 9: 1299000.0\n",
      "New adopters at time 10: 0.0\n",
      "New adopters at time 11: 0.0\n",
      "New adopters at time 12: 0.0\n",
      "New adopters at time 13: 0.0\n",
      "New adopters at time 14: 0.0\n",
      "New adopters at time 15: 0.0\n",
      "New adopters at time 16: 0.0\n",
      "Total number of adopters: 2592600.0\n",
      "The shape of the output is (17, 401)\n"
     ]
    },
    {
     "data": {
      "image/png": "[encoded data removed]",
      "text/plain": [
       "<Figure size 432x288 with 1 Axes>"
      ]
     },
     "metadata": {
      "needs_background": "light"
     },
     "output_type": "display_data"
    }
   ],
   "source": [
    "# reset Agent_Array\n",
    "Agent_Array=MakeAgentArray(Countypd,Agent_Scale)\n",
    "\n",
    "# Run the model once\n",
    "initial_params=np.array([-.2,.4,.4,.4])\n",
    "Timesteps=17\n",
    "Y_tilde=Model(initial_params,Timesteps,Agent_Array=Agent_Array)\n",
    "print(f\"The shape of the output is {Y_tilde.shape}\")\n",
    "\n",
    "pl.plot(Y_tilde.cumsum(axis=0).sum(axis=1),label=\"Initial model with some start parameters\")\n",
    "pl.plot(Y_kummulative.sum(axis=1),label=\"Real dataset\")\n",
    "pl.legend()\n",
    "pl.plot()\n",
    "pl.show()"
   ]
  },
  {
   "cell_type": "markdown",
   "metadata": {},
   "source": [
    "# 4) Implementing the gradients\n",
    "To calibrate the model, we have to introduce a **cost function C**. Here we use the sum over the squared residuals. "
   ]
  },
  {
   "cell_type": "code",
   "execution_count": 30,
   "metadata": {},
   "outputs": [
    {
     "name": "stdout",
     "output_type": "stream",
     "text": [
      "New adopters at time 1: 211800.0\n",
      "New adopters at time 2: 0.0\n",
      "New adopters at time 3: 30000.0\n",
      "New adopters at time 4: 1010200.0\n",
      "New adopters at time 5: 0.0\n",
      "New adopters at time 6: 1800.0\n",
      "New adopters at time 7: 54400.0\n",
      "New adopters at time 8: 0.0\n",
      "New adopters at time 9: 1283800.0\n",
      "New adopters at time 10: 0.0\n",
      "New adopters at time 11: 0.0\n",
      "New adopters at time 12: 0.0\n",
      "New adopters at time 13: 0.0\n",
      "New adopters at time 14: 0.0\n",
      "New adopters at time 15: 0.0\n",
      "New adopters at time 16: 0.0\n",
      "Total number of adopters: 2592000.0\n",
      "The value of the cost function is 10589632092.0\n"
     ]
    }
   ],
   "source": [
    "# reset Agent_Array\n",
    "Agent_Array=MakeAgentArray(Countypd,Agent_Scale)\n",
    "\n",
    "Timesteps=17\n",
    "def Costfunction(params,Agent_Array,Y=Y[:Timesteps],Model=Model,Timesteps=Timesteps):\n",
    "    Y_tilde=Model(params,Timesteps,Agent_Array)\n",
    "    residuals=(Y-Y_tilde)**2\n",
    "    return residuals.sum()\n",
    "\n",
    "print(f\"The value of the cost function is {Costfunction(initial_params,Agent_Array)}\")"
   ]
  },
  {
   "cell_type": "markdown",
   "metadata": {},
   "source": [
    "An intuitive approach for calibrating agent-based adoption models is the use of black-box optimization algorithms that do not need gradients. The disatvantage of those algorithms is their slow convergence. Especially when using many free parameters, black-box optimization is not able to find a good solution within an acceptable time.  \n",
    "Hence we will implement the gradients calculated in the paper \"Efficiently Calibrating Agent-based Models of Innovation Diffusion\".  \n",
    "\n",
    "First, we have to modify the utility function and the F function from above. They now also return their gradients. (Note, that for *F_threshold_wgrad()* the gradient would actually be the delta distribution, but this will kill all gradients, hence we use the gradient to be =1)"
   ]
  },
  {
   "cell_type": "code",
   "execution_count": 31,
   "metadata": {},
   "outputs": [],
   "source": [
    "def utility_func_wgrad(params,X):\n",
    "    utility=0.\n",
    "    for i in range(len(params)):\n",
    "        utility+=params[i]*X[i]\n",
    "    \n",
    "    grad=X\n",
    "    return utility,grad\n",
    "\n",
    "def F_threshold_wgrad(utility):\n",
    "    p_adopt=utility>0\n",
    "    grad=np.ones(len(utility))\n",
    "    return p_adopt,grad\n",
    "\n",
    "def F_gaussian_wgrad(utility,sigma=1):\n",
    "    p_adopt=0.5*(1+specialfunc.erf(utility/(2**0.5*sigma)))\n",
    "    grad=1/(2*sigma**2)**0.5*np.exp(-1*utility**2/(2*sigma**2))\n",
    "    return p_adopt,grad"
   ]
  },
  {
   "cell_type": "markdown",
   "metadata": {},
   "source": [
    "Note that only the parts commented with *NEW* are added to the already defined *Model()*-function."
   ]
  },
  {
   "cell_type": "code",
   "execution_count": 32,
   "metadata": {},
   "outputs": [],
   "source": [
    "def Model_with_gradients(params,Timesteps,Agent_Array=Agent_Array,Countypd=Countypd,utility_func=utility_func_wgrad,\n",
    "                         F=F_threshold_wgrad,PopDensity=PopDensity,Agent_Scale=Agent_Scale,Income=Income,\n",
    "                         Earning=Earning,print_adopter_number=True):\n",
    "    \"\"\"\n",
    "    The Model_with_gradients function takes the weights, number of timesteps and the Agent_Array (X) as input.\n",
    "    Its output is the number of new adopters in each county and each timestep t together with the gradients for the\n",
    "    calibration.\n",
    "    \"\"\"\n",
    "    \n",
    "    # Generate the part of X that is time independant\n",
    "    CountyofAgent=Agent_Array.transpose()[1]\n",
    "    X0=PopDensity[CountyofAgent]\n",
    "    X1=Income[CountyofAgent]\n",
    "    \n",
    "    # Generate an initial opinion\n",
    "    Opinion=np.zeros((Timesteps,len(Agent_Array)))\n",
    "    Opinion[0]=2*np.random.beta(2,8,size=len(Agent_Array))-1\n",
    "    \n",
    "    # Generate an individual threshold for each agent\n",
    "    threshold=np.random.beta(5,2,size=len(Agent_Array))\n",
    "    \n",
    "    # Define the PV_adopters matrix, which counts the number of new adopters at time t in county c\n",
    "    PV_adopters=np.zeros((Timesteps,len(Countypd)))\n",
    "    \n",
    "    # Agents_where is a matrix, that has a 1 in at place (county,agent) \n",
    "    # if the agent lives in that county and a 0 if not. It is used to make the algorithm more efficient later.\n",
    "    Agents_where=np.zeros((len(Countypd),len(Agent_Array))).astype(bool)\n",
    "    for i in range(len(Countypd)):\n",
    "        Agents_where[i]=Agent_Array.transpose()[1]==i\n",
    "        \n",
    "    # NEW: Define the gradient matrices\n",
    "    Grad_f_times_X=np.zeros((len(params),Timesteps,len(Countypd)))\n",
    "    Grad_2_sum=np.zeros((len(params),Timesteps,len(Countypd)))\n",
    "    Grad_temp_timesum=np.zeros((len(params),Timesteps,len(Agent_Array)))\n",
    "    Grad_state1=np.zeros((16,Timesteps,len(Countypd)))\n",
    "    Grad_state_sum=np.zeros((16,Timesteps,len(Countypd)))\n",
    "    Grad_state_temp_timesum=np.zeros((16,Timesteps,len(Agent_Array)))\n",
    "    Grad_prod_temp=np.zeros((Timesteps,len(Agent_Array)))\n",
    "    Grad_prod_temp[0]=np.ones(len(Agent_Array))\n",
    "    \n",
    "    \n",
    "    for t in range(1,Timesteps):\n",
    "        # Generate the part of X that is time dependant\n",
    "        Opinion=SimpleOpinionStep(Opinion,t)\n",
    "        X2=(Opinion[t]+1)/2\n",
    "        X3=Earning[t][CountyofAgent]\n",
    "        \n",
    "        X=np.array([X0,X1,X2,X3])\n",
    "        \n",
    "        utility,grad_utility=utility_func(params,X)\n",
    "        p_adopt,grad_adopt=F(utility-threshold)\n",
    "        \n",
    "        # NEW: COMPUTE THE GRADIENTS\n",
    "        \n",
    "        epsilon=1e-8\n",
    "        # Product part of the gradient\n",
    "        Grad_prod_temp[t]=1-p_adopt\n",
    "        Grad_prod=Grad_prod_temp[:t].prod(axis=0)\n",
    "        \n",
    "        for n in range(len(params)):\n",
    "            # First Summand within the gradients\n",
    "            grad_temp=grad_adopt*grad_utility[n]*Grad_prod\n",
    "            Grad_f_times_X[n][t]=np.stack((grad_temp,)*len(Countypd)).sum(axis=1,where=Agents_where)\n",
    "            # Second Summand within the gradients\n",
    "            Grad_temp_timesum[n][t]=grad_adopt*grad_utility[n]/(1-p_adopt+epsilon)\n",
    "            Grad_2_sum_temp=Grad_temp_timesum[n][:t].sum(axis=0)*p_adopt*Grad_prod\n",
    "            Grad_2_sum[n][t]=np.stack((Grad_2_sum_temp,)*len(Countypd)).sum(axis=1,where=Agents_where)\n",
    "        \n",
    "        \n",
    "        \n",
    "        # END OF: COMPUTE THE GRADIENTS\n",
    "        \n",
    "        # Update the adoption variable within the Agent matrix\n",
    "        Agent_Array[np.where(p_adopt==1)[0],2]=1\n",
    "        \n",
    "        # Count the number of new adopters\n",
    "        PV_adopters[t]=np.stack((Agent_Array.transpose()[2],)*len(Countypd)).sum(axis=1,where=Agents_where)-PV_adopters[:t].sum(axis=0)\n",
    "        if print_adopter_number:\n",
    "            print(f\"New adopters at time {t}: {(PV_adopters[t]/Agent_Scale).sum()}\")\n",
    "    \n",
    "    # NEW: substract the two gradient parts from each other to get the final gradient\n",
    "    Grad=Grad_f_times_X-Grad_2_sum\n",
    "    \n",
    "    PV_adopters/=Agent_Scale\n",
    "    if print_adopter_number:\n",
    "        print(f\"Total number of adopters: {(PV_adopters).sum()}\")\n",
    "    return PV_adopters,Grad"
   ]
  },
  {
   "cell_type": "markdown",
   "metadata": {},
   "source": [
    "The new *Costfunction_with_Gradients* has the summed residuals as well as the gradients as its output."
   ]
  },
  {
   "cell_type": "code",
   "execution_count": 33,
   "metadata": {},
   "outputs": [],
   "source": [
    "def Costfunction_with_Gradients(params,Agent_Array,Y=Y[:Timesteps],Model=Model,Timesteps=Timesteps, print_adopter_number=True):\n",
    "    Y_tilde,Grad_Y=Model_with_gradients(params,Timesteps,Agent_Array=Agent_Array,print_adopter_number=print_adopter_number)\n",
    "    residuals=(Y-Y_tilde)**2\n",
    "    \n",
    "    \"\"\"NEW: Calculate the gradients of the Cost function\"\"\"\n",
    "    Grad=np.zeros(len(params))\n",
    "    for n in range(len(params)):\n",
    "        Grad_temp=(Y-Y_tilde)*Grad_Y[n]\n",
    "        Grad[n]=-2*Grad_temp.sum()\n",
    "    \n",
    "    return residuals.sum(),Grad"
   ]
  },
  {
   "cell_type": "code",
   "execution_count": 36,
   "metadata": {},
   "outputs": [
    {
     "name": "stdout",
     "output_type": "stream",
     "text": [
      "New adopters at time 1: 209400.0\n",
      "New adopters at time 2: 0.0\n",
      "New adopters at time 3: 32800.0\n",
      "New adopters at time 4: 985600.0\n",
      "New adopters at time 5: 0.0\n",
      "New adopters at time 6: 2600.0\n",
      "New adopters at time 7: 51800.0\n",
      "New adopters at time 8: 0.0\n",
      "New adopters at time 9: 1290000.0\n",
      "New adopters at time 10: 0.0\n",
      "New adopters at time 11: 0.0\n",
      "New adopters at time 12: 0.0\n",
      "New adopters at time 13: 0.0\n",
      "New adopters at time 14: 0.0\n",
      "New adopters at time 15: 0.0\n",
      "New adopters at time 16: 0.0\n",
      "Total number of adopters: 2572200.0\n"
     ]
    }
   ],
   "source": [
    "# reset Agent_Array\n",
    "Agent_Array=MakeAgentArray(Countypd,Agent_Scale)\n",
    "\n",
    "C, grad = Costfunction_with_Gradients(initial_params,Agent_Array)"
   ]
  },
  {
   "cell_type": "markdown",
   "metadata": {},
   "source": [
    "# 5) Calibrating the model\n",
    "Now that we can calculate the gradients of the cost function with respect to the free parameters, we can use gradient-based optimizers for the model calibration. This has a huge advantage compared to use black-box optimizers, namely the relatively fast convergence even for many free parameters.  \n",
    "  \n",
    "Here we will use Adam [3] as our optimizer of choice, but note that we could actually use any gradient-based algorithm, even simple ones such as gradient descent. "
   ]
  },
  {
   "cell_type": "code",
   "execution_count": 37,
   "metadata": {},
   "outputs": [],
   "source": [
    "def adam(params,grad_params,mt,vt,n,lr=0.05, beta=(0.3, 0.5),eps=1e-10):\n",
    "    m_new=beta[0]*mt+(1-beta[0])*grad_params\n",
    "    v_new=beta[1]*vt+(1-beta[1])*grad_params**2\n",
    "    m_corr=m_new/(1-beta[0]**n)\n",
    "    v_corr=v_new/(1-beta[1]**n)\n",
    "    params_new=params-lr*m_corr/(v_corr**0.5+eps)\n",
    "    print(f\"The parameters are {params}\")\n",
    "    print(f\"The gradient of the parameters is {-lr*m_corr/(v_corr**0.5+eps)}\")\n",
    "    return params_new,m_new,v_new"
   ]
  },
  {
   "cell_type": "code",
   "execution_count": 38,
   "metadata": {},
   "outputs": [
    {
     "name": "stdout",
     "output_type": "stream",
     "text": [
      "The parameters are [-0.2  0.4  0.4  0.4]\n",
      "The gradient of the parameters is [-0.05 -0.05 -0.05 -0.05]\n",
      "Optimization step (1/40)\n",
      "The parameters are [-0.25  0.35  0.35  0.35]\n",
      "The gradient of the parameters is [-0.03195062 -0.04184542 -0.01680731 -0.04188582]\n",
      "Optimization step (2/40)\n",
      "The parameters are [-0.28195062  0.30815458  0.33319269  0.30811418]\n",
      "The gradient of the parameters is [ 0.01106638 -0.00212516  0.04186524 -0.02624632]\n",
      "Optimization step (3/40)\n",
      "The parameters are [-0.27088424  0.30602942  0.37505793  0.28186786]\n",
      "The gradient of the parameters is [ 0.0310222   0.01946958  0.0496251  -0.02134939]\n",
      "Optimization step (4/40)\n",
      "The parameters are [-0.23986204  0.325499    0.42468303  0.26051848]\n",
      "The gradient of the parameters is [ 0.03032939  0.01869678  0.049109   -0.02727015]\n",
      "Optimization step (5/40)\n",
      "The parameters are [-0.20953265  0.34419578  0.47379203  0.23324833]\n",
      "The gradient of the parameters is [ 0.02204684  0.00182566  0.04812608 -0.03463909]\n",
      "Optimization step (6/40)\n",
      "The parameters are [-0.1874858   0.34602144  0.52191811  0.19860924]\n",
      "The gradient of the parameters is [ 0.02629532  0.01864245  0.05021629 -0.03208334]\n",
      "Optimization step (7/40)\n",
      "The parameters are [-0.16119048  0.36466389  0.5721344   0.1665259 ]\n",
      "The gradient of the parameters is [-0.02348793 -0.02190895  0.04691314 -0.04019736]\n",
      "Optimization step (8/40)\n",
      "The parameters are [-0.18467841  0.34275493  0.61904754  0.12632854]\n",
      "The gradient of the parameters is [-0.00047292 -0.0134716   0.04744316 -0.02526917]\n",
      "Optimization step (9/40)\n",
      "The parameters are [-0.18515133  0.32928333  0.6664907   0.10105937]\n",
      "The gradient of the parameters is [-0.03740132 -0.04367279  0.04126106 -0.02536204]\n",
      "Optimization step (10/40)\n",
      "The parameters are [-0.22255264  0.28561054  0.70775176  0.07569733]\n",
      "The gradient of the parameters is [-0.03555711 -0.0513159   0.02961455 -0.02015004]\n",
      "Optimization step (11/40)\n",
      "The parameters are [-0.25810976  0.23429464  0.73736631  0.05554729]\n",
      "The gradient of the parameters is [ 0.01309344 -0.01322191  0.03887597  0.02932844]\n",
      "Optimization step (12/40)\n",
      "The parameters are [-0.24501632  0.22107272  0.77624228  0.08487573]\n",
      "The gradient of the parameters is [-0.04168397 -0.04931177 -0.01827042 -0.03908876]\n",
      "Optimization step (13/40)\n",
      "The parameters are [-0.28670029  0.17176095  0.75797186  0.04578697]\n",
      "The gradient of the parameters is [0.03511043 0.00120739 0.03164095 0.02322452]\n",
      "Optimization step (14/40)\n",
      "The parameters are [-0.25158985  0.17296834  0.78961282  0.06901149]\n",
      "The gradient of the parameters is [-0.01850023 -0.03717362 -0.0136205  -0.02015064]\n",
      "Optimization step (15/40)\n",
      "The parameters are [-0.27009008  0.13579473  0.77599232  0.04886085]\n",
      "The gradient of the parameters is [0.0303681  0.01307237 0.03621448 0.03090874]\n",
      "Optimization step (16/40)\n",
      "The parameters are [-0.23972198  0.14886709  0.8122068   0.07976959]\n",
      "The gradient of the parameters is [-0.03293764 -0.04233812 -0.03249383 -0.03593434]\n",
      "Optimization step (17/40)\n",
      "The parameters are [-0.27265962  0.10652898  0.77971297  0.04383526]\n",
      "The gradient of the parameters is [0.02712517 0.0119999  0.02496548 0.02093248]\n",
      "Optimization step (18/40)\n",
      "The parameters are [-0.24553445  0.11852888  0.80467845  0.06476774]\n",
      "The gradient of the parameters is [ 0.00616198 -0.02121754 -0.0078645  -0.00829385]\n",
      "Optimization step (19/40)\n",
      "The parameters are [-0.23937247  0.09731134  0.79681395  0.05647389]\n",
      "The gradient of the parameters is [0.02951244 0.00379996 0.01873013 0.01446369]\n",
      "Optimization step (20/40)\n",
      "The parameters are [-0.20986003  0.1011113   0.81554408  0.07093758]\n",
      "The gradient of the parameters is [-0.03384837 -0.0408473  -0.03104842 -0.03433909]\n",
      "Optimization step (21/40)\n",
      "The parameters are [-0.2437084   0.060264    0.78449566  0.03659849]\n",
      "The gradient of the parameters is [0.03477593 0.03045772 0.03805391 0.03766764]\n",
      "Optimization step (22/40)\n",
      "The parameters are [-0.20893247  0.09072172  0.82254957  0.07426613]\n",
      "The gradient of the parameters is [-0.03042444 -0.03074439 -0.02457529 -0.0239884 ]\n",
      "Optimization step (23/40)\n",
      "The parameters are [-0.23935691  0.05997733  0.79797427  0.05027773]\n",
      "The gradient of the parameters is [0.01615467 0.01653637 0.02381189 0.02384916]\n",
      "Optimization step (24/40)\n",
      "The parameters are [-0.22320224  0.0765137   0.82178616  0.07412689]\n",
      "The gradient of the parameters is [-0.02292242 -0.02409426 -0.01761964 -0.02151881]\n",
      "Optimization step (25/40)\n",
      "The parameters are [-0.24612466  0.05241944  0.80416653  0.05260807]\n",
      "The gradient of the parameters is [0.02082397 0.01243108 0.01685584 0.01454587]\n",
      "Optimization step (26/40)\n",
      "The parameters are [-0.22530069  0.06485052  0.82102237  0.06715395]\n",
      "The gradient of the parameters is [ 0.000896   -0.02542503 -0.01403945 -0.01764576]\n",
      "Optimization step (27/40)\n",
      "The parameters are [-0.2244047   0.03942549  0.80698292  0.04950818]\n",
      "The gradient of the parameters is [0.03812676 0.01980625 0.03097409 0.02823609]\n",
      "Optimization step (28/40)\n",
      "The parameters are [-0.18627794  0.05923174  0.837957    0.07774427]\n",
      "The gradient of the parameters is [-0.04116768 -0.04402783 -0.04164432 -0.04179188]\n",
      "Optimization step (29/40)\n",
      "The parameters are [-0.22744562  0.0152039   0.79631269  0.03595239]\n",
      "The gradient of the parameters is [0.02229453 0.02294053 0.02711902 0.02779329]\n",
      "Optimization step (30/40)\n",
      "The parameters are [-0.20515109  0.03814443  0.82343171  0.06374568]\n",
      "The gradient of the parameters is [-0.00376113 -0.00302569 -0.00186897  0.0028382 ]\n",
      "Optimization step (31/40)\n",
      "The parameters are [-0.20891222  0.03511875  0.82156274  0.06658388]\n",
      "The gradient of the parameters is [-0.00714317 -0.00859424 -0.00455245 -0.00338949]\n",
      "Optimization step (32/40)\n",
      "The parameters are [-0.21605539  0.02652451  0.81701029  0.06319439]\n",
      "The gradient of the parameters is [-0.00794703 -0.00017429  0.0102138   0.01088312]\n",
      "Optimization step (33/40)\n",
      "The parameters are [-0.22400242  0.02635022  0.82722409  0.07407751]\n",
      "The gradient of the parameters is [-0.0313974  -0.03864088 -0.03272159 -0.03744454]\n",
      "Optimization step (34/40)\n",
      "The parameters are [-0.25539981 -0.01229066  0.7945025   0.03663297]\n",
      "The gradient of the parameters is [0.04483857 0.04340916 0.04459609 0.04246868]\n",
      "Optimization step (35/40)\n",
      "The parameters are [-0.21056124  0.0311185   0.83909859  0.07910165]\n",
      "The gradient of the parameters is [-0.00975347 -0.0109367  -0.01100937 -0.01522262]\n",
      "Optimization step (36/40)\n",
      "The parameters are [-0.22031471  0.0201818   0.82808922  0.06387902]\n",
      "The gradient of the parameters is [-0.01284671 -0.00925119 -0.00800355 -0.00928755]\n",
      "Optimization step (37/40)\n",
      "The parameters are [-0.23316142  0.01093061  0.82008567  0.05459147]\n",
      "The gradient of the parameters is [0.01288884 0.01406429 0.01679011 0.01789358]\n",
      "Optimization step (38/40)\n",
      "The parameters are [-0.22027258  0.0249949   0.83687578  0.07248505]\n",
      "The gradient of the parameters is [-0.03890963 -0.03496182 -0.03397833 -0.03263769]\n",
      "Optimization step (39/40)\n"
     ]
    },
    {
     "data": {
      "image/png": "[encoded data removed]",
      "text/plain": [
       "<Figure size 432x288 with 1 Axes>"
      ]
     },
     "metadata": {
      "needs_background": "light"
     },
     "output_type": "display_data"
    }
   ],
   "source": [
    "OptimizationSteps=40\n",
    "mt=0\n",
    "vt=0\n",
    "params = initial_params\n",
    "c_list=[]\n",
    "    \n",
    "for n in range(1,OptimizationSteps):\n",
    "    # reset Agent_Array\n",
    "    Agent_Array=MakeAgentArray(Countypd,Agent_Scale)\n",
    "    c,grad=Costfunction_with_Gradients(params,Agent_Array,print_adopter_number=False)\n",
    "    c_list.append(c)\n",
    "    params,mt,vt=adam(params,grad,mt,vt,n)   \n",
    "    print(f\"Optimization step ({n}/{OptimizationSteps})\")\n",
    "pl.plot(c_list)\n",
    "pl.show()"
   ]
  },
  {
   "cell_type": "code",
   "execution_count": 39,
   "metadata": {},
   "outputs": [
    {
     "name": "stdout",
     "output_type": "stream",
     "text": [
      "New adopters at time 1: 72000.0\n",
      "New adopters at time 2: 16400.0\n",
      "New adopters at time 3: 21400.0\n",
      "New adopters at time 4: 43800.0\n",
      "New adopters at time 5: 23600.0\n",
      "New adopters at time 6: 35000.0\n",
      "New adopters at time 7: 46400.0\n",
      "New adopters at time 8: 33800.0\n",
      "New adopters at time 9: 83800.0\n",
      "New adopters at time 10: 50400.0\n",
      "New adopters at time 11: 28000.0\n",
      "New adopters at time 12: 50400.0\n",
      "New adopters at time 13: 39800.0\n",
      "New adopters at time 14: 57200.0\n",
      "New adopters at time 15: 74600.0\n",
      "New adopters at time 16: 81800.0\n",
      "Total number of adopters: 758400.0\n"
     ]
    },
    {
     "data": {
      "image/png": "[encoded data removed]",
      "text/plain": [
       "<Figure size 432x288 with 1 Axes>"
      ]
     },
     "metadata": {
      "needs_background": "light"
     },
     "output_type": "display_data"
    }
   ],
   "source": [
    "# reset Agent_Array\n",
    "Agent_Array=MakeAgentArray(Countypd,Agent_Scale)\n",
    "\n",
    "pl.plot(Y_tilde.cumsum(axis=0).sum(axis=1),label=\"Initial model with some start parameters\")\n",
    "pl.plot(Model(params,Timesteps,Agent_Array).cumsum(axis=0).sum(axis=1),label=\"Model after optimization\")\n",
    "pl.plot(Y_kummulative.sum(axis=1),label=\"Real dataset\")\n",
    "pl.legend()\n",
    "pl.plot()\n",
    "pl.show()"
   ]
  },
  {
   "cell_type": "markdown",
   "metadata": {},
   "source": [
    "# Conclusion\n",
    "This notebook portrays the usage of the ABM of Innovation Diffusion that can be calibrated using gradient-based optimizers. Since the toy model is very small, it is also limited in its capabilities. In the paper \"Efficiently Calibrating Agent-based Models of Innovation Diffusion\", a more complex model is used to describe the Diffusion of PV systems in Germany. This model achieves a good fit, but it also needs more computational time. \n",
    "\n",
    "If you want to apply the gradient-based calibration technique, the most interesting part is probably the implementation of the model and the calculation of the gradients within the function `Model_with_gradients`."
   ]
  },
  {
   "cell_type": "markdown",
   "metadata": {},
   "source": [
    "# Resources\n",
    "\n",
    "[1] Deffuant, Guillaume, et al. \"Mixing beliefs among interacting agents.\" Advances in Complex Systems 3.01n04 (2000): 87-98.  \n",
    "[2] Deffuant, Guillaume, et al. \"How can extremism prevail? A study based on the relative agreement interaction model.\" Journal of artificial societies and social simulation 5.4 (2002).  \n",
    "[3] Kingma, D. P., & Ba, J. (2014). Adam: A method for stochastic optimization. arXiv preprint arXiv:1412.6980."
   ]
  },
  {
   "cell_type": "code",
   "execution_count": null,
   "metadata": {},
   "outputs": [],
   "source": []
  }
 ],
 "metadata": {
  "kernelspec": {
   "display_name": "Python 3",
   "language": "python",
   "name": "python3"
  },
  "language_info": {
   "codemirror_mode": {
    "name": "ipython",
    "version": 3
   },
   "file_extension": ".py",
   "mimetype": "text/x-python",
   "name": "python",
   "nbconvert_exporter": "python",
   "pygments_lexer": "ipython3",
   "version": "3.8.8"
  }
 },
 "nbformat": 4,
 "nbformat_minor": 2
}
