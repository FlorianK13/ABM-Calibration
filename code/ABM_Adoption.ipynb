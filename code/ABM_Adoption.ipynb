{
 "cells": [
  {
   "cell_type": "markdown",
   "metadata": {},
   "source": [
    "# 1) Introduction\n",
    "\n",
    "This notebook contains additional information to the paper \"Efficiently Calibrating Agent-based Models of Innovation Diffusion\" (In Review process).\n",
    "  \n",
    "In the following code, we want to understand a new way of calibrating an agent-based model of Innovation Diffusion. Therefore we will implement a toy model together with its gradients and fit it to the adoption data of small-scale Photovoltaic installations in Germany. Of course, **the general framework is applicable to many other problems in the field of technology or behavioural adoption.**  \n",
    "  \n"
   ]
  },
  {
   "cell_type": "code",
   "execution_count": 1,
   "metadata": {},
   "outputs": [],
   "source": [
    "import numpy as np\n",
    "import matplotlib.pyplot as pl\n",
    "import pandas as pd"
   ]
  },
  {
   "cell_type": "markdown",
   "metadata": {},
   "source": [
    "# 2) Data preparation\n",
    "In the first part of the code, we will **prepare the data we need for our model.** First we will load the pandas dataframe *Countypd*, which already contains most of the info we need:  \n",
    "  \n",
    "1) The name of the county  \n",
    "2) The identification key  \n",
    "3) The number of the agents that live in the county  \n",
    "4) The incoming radiation (We will not use this directly, but it is part of the average earning for installing PV)  \n",
    "5) The population density of the county  \n",
    "6) The mean income tax (without units)  \n",
    "  \n",
    "These explanatory variables will not be able to reproduce the real data set of PV installtions in a good way, but we won't care about that since we're only interested in calibrating a toy model.\n"
   ]
  },
  {
   "cell_type": "code",
   "execution_count": 2,
   "metadata": {},
   "outputs": [
    {
     "data": {
      "text/html": [
       "<div>\n",
       "<style scoped>\n",
       "    .dataframe tbody tr th:only-of-type {\n",
       "        vertical-align: middle;\n",
       "    }\n",
       "\n",
       "    .dataframe tbody tr th {\n",
       "        vertical-align: top;\n",
       "    }\n",
       "\n",
       "    .dataframe thead th {\n",
       "        text-align: right;\n",
       "    }\n",
       "</style>\n",
       "<table border=\"1\" class=\"dataframe\">\n",
       "  <thead>\n",
       "    <tr style=\"text-align: right;\">\n",
       "      <th></th>\n",
       "      <th>county</th>\n",
       "      <th>county key</th>\n",
       "      <th>state</th>\n",
       "      <th>number agents</th>\n",
       "      <th>radiation</th>\n",
       "      <th>population density</th>\n",
       "      <th>mean income tax</th>\n",
       "    </tr>\n",
       "  </thead>\n",
       "  <tbody>\n",
       "    <tr>\n",
       "      <th>0</th>\n",
       "      <td>Freiburg im Breisgau</td>\n",
       "      <td>8311</td>\n",
       "      <td>8.0</td>\n",
       "      <td>16410.0</td>\n",
       "      <td>1182.4</td>\n",
       "      <td>1511</td>\n",
       "      <td>7.271844</td>\n",
       "    </tr>\n",
       "    <tr>\n",
       "      <th>1</th>\n",
       "      <td>Dillingen an der Donau</td>\n",
       "      <td>9773</td>\n",
       "      <td>9.0</td>\n",
       "      <td>26614.0</td>\n",
       "      <td>1215.4</td>\n",
       "      <td>122</td>\n",
       "      <td>6.642851</td>\n",
       "    </tr>\n",
       "    <tr>\n",
       "      <th>2</th>\n",
       "      <td>Nürnberg</td>\n",
       "      <td>9564</td>\n",
       "      <td>9.0</td>\n",
       "      <td>50926.0</td>\n",
       "      <td>1186.8</td>\n",
       "      <td>2780</td>\n",
       "      <td>6.738487</td>\n",
       "    </tr>\n",
       "    <tr>\n",
       "      <th>3</th>\n",
       "      <td>Neumarkt in der Oberpfalz</td>\n",
       "      <td>9373</td>\n",
       "      <td>9.0</td>\n",
       "      <td>33915.0</td>\n",
       "      <td>1197.2</td>\n",
       "      <td>100</td>\n",
       "      <td>6.664490</td>\n",
       "    </tr>\n",
       "    <tr>\n",
       "      <th>4</th>\n",
       "      <td>Rosenheim</td>\n",
       "      <td>9163</td>\n",
       "      <td>9.0</td>\n",
       "      <td>7858.0</td>\n",
       "      <td>1236.8</td>\n",
       "      <td>1707</td>\n",
       "      <td>7.013568</td>\n",
       "    </tr>\n",
       "    <tr>\n",
       "      <th>...</th>\n",
       "      <td>...</td>\n",
       "      <td>...</td>\n",
       "      <td>...</td>\n",
       "      <td>...</td>\n",
       "      <td>...</td>\n",
       "      <td>...</td>\n",
       "      <td>...</td>\n",
       "    </tr>\n",
       "    <tr>\n",
       "      <th>396</th>\n",
       "      <td>Altmarkkreis Salzwedel</td>\n",
       "      <td>15081</td>\n",
       "      <td>15.0</td>\n",
       "      <td>24213.0</td>\n",
       "      <td>1109.0</td>\n",
       "      <td>36</td>\n",
       "      <td>4.251962</td>\n",
       "    </tr>\n",
       "    <tr>\n",
       "      <th>397</th>\n",
       "      <td>Anhalt-Bitterfeld</td>\n",
       "      <td>15082</td>\n",
       "      <td>15.0</td>\n",
       "      <td>40902.0</td>\n",
       "      <td>1127.4</td>\n",
       "      <td>109</td>\n",
       "      <td>3.963499</td>\n",
       "    </tr>\n",
       "    <tr>\n",
       "      <th>398</th>\n",
       "      <td>Börde</td>\n",
       "      <td>15083</td>\n",
       "      <td>15.0</td>\n",
       "      <td>48260.0</td>\n",
       "      <td>1121.0</td>\n",
       "      <td>72</td>\n",
       "      <td>5.050583</td>\n",
       "    </tr>\n",
       "    <tr>\n",
       "      <th>399</th>\n",
       "      <td>Mittelsachsen</td>\n",
       "      <td>14522</td>\n",
       "      <td>14.0</td>\n",
       "      <td>67223.0</td>\n",
       "      <td>1129.2</td>\n",
       "      <td>144</td>\n",
       "      <td>4.127533</td>\n",
       "    </tr>\n",
       "    <tr>\n",
       "      <th>400</th>\n",
       "      <td>Erfurt</td>\n",
       "      <td>16051</td>\n",
       "      <td>16.0</td>\n",
       "      <td>20311.0</td>\n",
       "      <td>1111.0</td>\n",
       "      <td>793</td>\n",
       "      <td>5.209551</td>\n",
       "    </tr>\n",
       "  </tbody>\n",
       "</table>\n",
       "<p>401 rows × 7 columns</p>\n",
       "</div>"
      ],
      "text/plain": [
       "                        county  county key  state  number agents  radiation  \\\n",
       "0         Freiburg im Breisgau        8311    8.0        16410.0     1182.4   \n",
       "1       Dillingen an der Donau        9773    9.0        26614.0     1215.4   \n",
       "2                     Nürnberg        9564    9.0        50926.0     1186.8   \n",
       "3    Neumarkt in der Oberpfalz        9373    9.0        33915.0     1197.2   \n",
       "4                    Rosenheim        9163    9.0         7858.0     1236.8   \n",
       "..                         ...         ...    ...            ...        ...   \n",
       "396     Altmarkkreis Salzwedel       15081   15.0        24213.0     1109.0   \n",
       "397          Anhalt-Bitterfeld       15082   15.0        40902.0     1127.4   \n",
       "398                      Börde       15083   15.0        48260.0     1121.0   \n",
       "399              Mittelsachsen       14522   14.0        67223.0     1129.2   \n",
       "400                     Erfurt       16051   16.0        20311.0     1111.0   \n",
       "\n",
       "     population density  mean income tax  \n",
       "0                  1511         7.271844  \n",
       "1                   122         6.642851  \n",
       "2                  2780         6.738487  \n",
       "3                   100         6.664490  \n",
       "4                  1707         7.013568  \n",
       "..                  ...              ...  \n",
       "396                  36         4.251962  \n",
       "397                 109         3.963499  \n",
       "398                  72         5.050583  \n",
       "399                 144         4.127533  \n",
       "400                 793         5.209551  \n",
       "\n",
       "[401 rows x 7 columns]"
      ]
     },
     "execution_count": 2,
     "metadata": {},
     "output_type": "execute_result"
    }
   ],
   "source": [
    "Countypd=pd.read_csv(\"../data/PV_Dataframe.csv\").drop(\"Unnamed: 0\",axis=1)\n",
    "Countypd"
   ]
  },
  {
   "cell_type": "markdown",
   "metadata": {},
   "source": [
    "  \n",
    "  \n",
    "Finally, some of the data from the county dataframe is transferred to numpy arrays and normalized. "
   ]
  },
  {
   "cell_type": "code",
   "execution_count": 3,
   "metadata": {},
   "outputs": [],
   "source": [
    "PopDensity=np.array(Countypd[\"population density\"]).astype(float)\n",
    "PopDensity-=PopDensity.min()\n",
    "PopDensity/=PopDensity.max()\n",
    "\n",
    "Income=np.array(Countypd[\"mean income tax\"]).astype(float)\n",
    "Income-=Income.min()\n",
    "Income/=Income.max()"
   ]
  },
  {
   "cell_type": "markdown",
   "metadata": {},
   "source": [
    "The next data we load in is the *Earning matrix*, **which is the normalized earning an agent expects** when installing a 1 kWp PV system. It has different entries for each of the 401 counties and varies over the 18 steps in time. For simplicity, it was pre-calculated and depends on  \n",
    "1) The average yearly solar irradiation in county c  \n",
    "2) The Feed in Tarrif at time t  \n",
    "3) The average capital cost for installing 1 kWp of PV  \n",
    "4) The lending and deposit interest rates at time t  \n",
    "5) The self-consumption ratio  \n"
   ]
  },
  {
   "cell_type": "code",
   "execution_count": 4,
   "metadata": {},
   "outputs": [
    {
     "name": "stdout",
     "output_type": "stream",
     "text": [
      "The shape of the Earning matrix is (18, 401)\n",
      "The largest entry is 1.0, the smallest is 0.0.\n"
     ]
    },
    {
     "data": {
      "image/png": "[encoded data removed]",
      "text/plain": [
       "<Figure size 432x288 with 1 Axes>"
      ]
     },
     "metadata": {
      "needs_background": "light"
     },
     "output_type": "display_data"
    }
   ],
   "source": [
    "Earning=np.load(\"../data/Earning.npy\")\n",
    "print(f\"The shape of the Earning matrix is {Earning.shape}\")\n",
    "print(f\"The largest entry is {Earning.max()}, the smallest is {Earning.min()}.\")\n",
    "pl.errorbar(np.arange(18),Earning.mean(axis=1),Earning.var(axis=1)**0.5)\n",
    "pl.ylabel(\"Normalized earning for installing PV at time t\")\n",
    "pl.xlabel(\"t\")\n",
    "pl.show()"
   ]
  },
  {
   "cell_type": "markdown",
   "metadata": {},
   "source": [
    "Now we need the **Agent matrix to store all info about the individual agents** we need. The agent matrix consists of three columns. The first column is an identiciation number for each agent. The second column is the number of the county the agent lives in. The third column stores the info if the agent has adopted to the new technology and is either a 1 (adopted) or a 0 (not adopted). This third column will be updated at each timestep of the simulation.  \n",
    "  \n",
    "Note that the variable *Agent_Scale* shrinks down the model to achieve a faster computation. With the choosen value of 0.005, we do not use the original number of ~1.5e7 agents owning a house in Germany, but only 0.5% of that. Therefore, each agent in the simulation represents 200 agents in reality and the model has 79835 agents."
   ]
  },
  {
   "cell_type": "code",
   "execution_count": 5,
   "metadata": {},
   "outputs": [
    {
     "name": "stdout",
     "output_type": "stream",
     "text": [
      "(79835, 3)\n",
      "[1000    7    0]\n"
     ]
    }
   ],
   "source": [
    "from CreateData_GIT import MakeAgentArray\n",
    "\n",
    "Agent_Scale=0.005\n",
    "Agent_Array=MakeAgentArray(Countypd,Agent_Scale)\n",
    "\n",
    "print(Agent_Array.shape)\n",
    "print(Agent_Array[1000])"
   ]
  },
  {
   "cell_type": "markdown",
   "metadata": {},
   "source": [
    "At last, we need the **data set we want to model**, namely the number of new adopters between 2000 and 2019 in each county. "
   ]
  },
  {
   "cell_type": "code",
   "execution_count": 6,
   "metadata": {},
   "outputs": [
    {
     "data": {
      "image/png": "[encoded data removed]",
      "text/plain": [
       "<Figure size 432x288 with 1 Axes>"
      ]
     },
     "metadata": {
      "needs_background": "light"
     },
     "output_type": "display_data"
    },
    {
     "name": "stdout",
     "output_type": "stream",
     "text": [
      "The shape of the PV Dataset is (19, 401)\n"
     ]
    }
   ],
   "source": [
    "from CreateData_GIT import Load_PVData\n",
    "Y,Y_kummulative=Load_PVData()\n",
    "pl.plot(Y.sum(axis=1),label=\"New installations per year\")\n",
    "pl.plot(Y_kummulative.sum(axis=1),label=\"Total number of installations\")\n",
    "pl.legend()\n",
    "pl.show()\n",
    "print(f\"The shape of the PV Dataset is {Y.shape}\")"
   ]
  },
  {
   "cell_type": "markdown",
   "metadata": {},
   "source": [
    "One part of the explanatory data X should be some sort of opinion variable that reflects the opinion of agent i about adopting. This induces interaction among agents, e.g. if one chooses ideas like the *Relative Agreement model* [1,2]. In this toy model however, we draw a random initial opinion for each agent and change it randomly over time, where positive opinion changes are more likely than negative changes. This simplified opinion model has no interaction among agents and is much faster in terms of computation.\n",
    "  \n",
    "For each agent at every time t, the Opinion lies between -1 and 1. "
   ]
  },
  {
   "cell_type": "code",
   "execution_count": 7,
   "metadata": {},
   "outputs": [
    {
     "data": {
      "image/png": "[encoded data removed]",
      "text/plain": [
       "<Figure size 432x288 with 1 Axes>"
      ]
     },
     "metadata": {
      "needs_background": "light"
     },
     "output_type": "display_data"
    },
    {
     "data": {
      "image/png": "[encoded data removed]",
      "text/plain": [
       "<Figure size 432x288 with 1 Axes>"
      ]
     },
     "metadata": {
      "needs_background": "light"
     },
     "output_type": "display_data"
    }
   ],
   "source": [
    "from CreateData_GIT import SimpleOpinionStep\n",
    "Opinion=np.zeros((17,len(Agent_Array)))\n",
    "Opinion[0]=2*np.random.beta(2,8,size=len(Agent_Array))-1\n",
    "pl.hist(Opinion[0],bins=100,label=\"t=0\")\n",
    "for t in range(1,17):\n",
    "    Opinion=SimpleOpinionStep(Opinion,t)\n",
    "    pl.hist(Opinion[t],bins=100,label=\"t=\"+str(t))\n",
    "pl.ylabel(r\"$ \\# agents\\ with\\ opinion\\ o_i$\")\n",
    "pl.xlabel(r\"$o_i$\")\n",
    "pl.legend(ncol=2,bbox_to_anchor=(1,1))\n",
    "pl.show()\n",
    "pl.plot(Opinion.transpose()[100])\n",
    "pl.title(\"Opinion of one agent over time\")\n",
    "pl.ylabel(r\"$o_i$\")\n",
    "pl.xlabel(r\"$t$\")\n",
    "pl.show()"
   ]
  },
  {
   "cell_type": "markdown",
   "metadata": {},
   "source": [
    "# 3) Defining the model\n",
    "  \n",
    "For detailed information about the model, we refer to the work \"Efficiently Calibrating Agent-based Models of Innovation Diffusion\".  \n",
    "  \n",
    "First we define a **linear utility**. This utility is the sum over the fitting parameters *params_i* times the explanatory variables *X_i*. The higher the value of the utility becomes, the more likely is an adoption of the agent."
   ]
  },
  {
   "cell_type": "code",
   "execution_count": 8,
   "metadata": {},
   "outputs": [],
   "source": [
    "def utility_func(params,X):\n",
    "    utility=0.\n",
    "    for i in range(len(params)):\n",
    "        utility+=params[i]*X[i]\n",
    "    return utility"
   ]
  },
  {
   "cell_type": "markdown",
   "metadata": {},
   "source": [
    "Then we define the **function F, which maps the utility to an adoption probability** in [0,1]. Since we want to model a threshold adoption, the probability to adopt is 1 if the utility is positive and it is 0 if the utility is negative:"
   ]
  },
  {
   "cell_type": "code",
   "execution_count": 9,
   "metadata": {},
   "outputs": [],
   "source": [
    "def F(utility):\n",
    "    p_adopt=utility>0\n",
    "    return p_adopt"
   ]
  },
  {
   "cell_type": "markdown",
   "metadata": {},
   "source": [
    "Finally we reached the point where we **define the actual model**. The model function needs an array of four values as *params* and the number of years *Timesteps* as a whole number. The output is an array of the same shape as the PV installation array *Y*. It stands for the number of new adopters in each county for each point in time.  \n",
    "\n"
   ]
  },
  {
   "cell_type": "code",
   "execution_count": 10,
   "metadata": {},
   "outputs": [],
   "source": [
    "def Model(params,Timesteps,Agent_Array=Agent_Array,Countypd=Countypd,utility_func=utility_func,F=F,\n",
    "          PopDensity=PopDensity,Agent_Scale=Agent_Scale,\n",
    "          Income=Income,Earning=Earning):  \n",
    "    \"\"\"\n",
    "    The Model function takes the weights, number of timesteps and the Agent_Array (X) as input.\n",
    "    Its output is the number of new adopters in each county and each timestep t.\n",
    "    \"\"\"\n",
    "    \n",
    "    # Generate the part of X that is time independant\n",
    "    CountyofAgent=Agent_Array.transpose()[1]\n",
    "    X0=PopDensity[CountyofAgent]\n",
    "    X1=Income[CountyofAgent]\n",
    "    \n",
    "    # Generate an initial opinion\n",
    "    Opinion=np.zeros((Timesteps,len(Agent_Array)))\n",
    "    Opinion[0]=2*np.random.beta(2,8,size=len(Agent_Array))-1\n",
    "    \n",
    "    # Generate an individual threshold for each agent\n",
    "    threshold=np.random.beta(5,2,size=len(Agent_Array))\n",
    "    \n",
    "    # Define the PV_adopters matrix, which counts the number of new adopters at time t in county c\n",
    "    PV_adopters=np.zeros((Timesteps,len(Countypd)))\n",
    "    \n",
    "    # Agents_where is a matrix, that has a 1 at place (county,agent) \n",
    "    # if the agent lives in that county and a 0 if not. It is used to make the algorithm more efficient later\n",
    "    Agents_where=np.zeros((len(Countypd),len(Agent_Array))).astype(bool)\n",
    "    for i in range(len(Countypd)):\n",
    "        Agents_where[i]=Agent_Array.transpose()[1]==i\n",
    "    \n",
    "    for t in range(1,Timesteps):\n",
    "        # Generate the part of X that is time dependant\n",
    "        Opinion=SimpleOpinionStep(Opinion,t)\n",
    "        X2=(Opinion[t]+1)/2\n",
    "        X3=Earning[t][CountyofAgent]\n",
    "        \n",
    "        X=np.array([X0,X1,X2,X3])\n",
    "        \n",
    "        utility=utility_func(params,X)\n",
    "        p_adopt=F(utility-threshold)\n",
    "        # Update the adoption variable within the Agent matrix\n",
    "        Agent_Array[np.where(p_adopt==1)[0],2]=1\n",
    "        # Count the number of new adopters\n",
    "        PV_adopters[t]=np.stack((Agent_Array.transpose()[2],)*len(Countypd)).sum(axis=1,where=Agents_where)-PV_adopters[:t].sum(axis=0)\n",
    "        \n",
    "        print(f\"New adopters at time {t}: {(PV_adopters[t]/Agent_Scale).sum()}\")\n",
    "    PV_adopters/=Agent_Scale\n",
    "    \n",
    "    print(f\"Total number of adopters: {(PV_adopters).sum()}\")\n",
    "    return PV_adopters"
   ]
  },
  {
   "cell_type": "markdown",
   "metadata": {},
   "source": [
    "Now we can run the model for the first time with some initial parameters. "
   ]
  },
  {
   "cell_type": "code",
   "execution_count": 11,
   "metadata": {},
   "outputs": [
    {
     "name": "stdout",
     "output_type": "stream",
     "text": [
      "New adopters at time 1: 210600.0\n",
      "New adopters at time 2: 0.0\n",
      "New adopters at time 3: 26800.0\n",
      "New adopters at time 4: 982400.0\n",
      "New adopters at time 5: 0.0\n",
      "New adopters at time 6: 3400.0\n",
      "New adopters at time 7: 59600.0\n",
      "New adopters at time 8: 0.0\n",
      "New adopters at time 9: 1289800.0\n",
      "New adopters at time 10: 0.0\n",
      "New adopters at time 11: 0.0\n",
      "New adopters at time 12: 0.0\n",
      "New adopters at time 13: 0.0\n",
      "New adopters at time 14: 0.0\n",
      "New adopters at time 15: 0.0\n",
      "New adopters at time 16: 0.0\n",
      "Total number of adopters: 2572600.0\n",
      "The shape of the output is (17, 401)\n"
     ]
    },
    {
     "data": {
      "image/png": "[encoded data removed]",
      "text/plain": [
       "<Figure size 432x288 with 1 Axes>"
      ]
     },
     "metadata": {
      "needs_background": "light"
     },
     "output_type": "display_data"
    }
   ],
   "source": [
    "# reset Agent_Array\n",
    "Agent_Array=MakeAgentArray(Countypd,Agent_Scale)\n",
    "\n",
    "# Run the model once\n",
    "initial_params=np.array([-.2,.4,.4,.4])\n",
    "Timesteps=17\n",
    "Y_tilde=Model(initial_params,Timesteps,Agent_Array=Agent_Array)\n",
    "print(f\"The shape of the output is {Y_tilde.shape}\")\n",
    "\n",
    "pl.plot(Y_tilde.cumsum(axis=0).sum(axis=1),label=\"Initial model with some start parameters\")\n",
    "pl.plot(Y_kummulative.sum(axis=1),label=\"Real dataset\")\n",
    "pl.legend()\n",
    "pl.plot()\n",
    "pl.show()"
   ]
  },
  {
   "cell_type": "markdown",
   "metadata": {},
   "source": [
    "# 4) Implementing the gradients\n",
    "To calibrate the model, we have to introduce a **cost function C**. Here we use the sum over the squared residuals. "
   ]
  },
  {
   "cell_type": "code",
   "execution_count": 12,
   "metadata": {},
   "outputs": [
    {
     "name": "stdout",
     "output_type": "stream",
     "text": [
      "New adopters at time 1: 218000.0\n",
      "New adopters at time 2: 0.0\n",
      "New adopters at time 3: 32800.0\n",
      "New adopters at time 4: 984800.0\n",
      "New adopters at time 5: 0.0\n",
      "New adopters at time 6: 4000.0\n",
      "New adopters at time 7: 51800.0\n",
      "New adopters at time 8: 0.0\n",
      "New adopters at time 9: 1272400.0\n",
      "New adopters at time 10: 0.0\n",
      "New adopters at time 11: 0.0\n",
      "New adopters at time 12: 0.0\n",
      "New adopters at time 13: 0.0\n",
      "New adopters at time 14: 0.0\n",
      "New adopters at time 15: 0.0\n",
      "New adopters at time 16: 0.0\n",
      "Total number of adopters: 2563800.0\n",
      "The value of the cost function is 10282433692.0\n"
     ]
    }
   ],
   "source": [
    "# reset Agent_Array\n",
    "Agent_Array=MakeAgentArray(Countypd,Agent_Scale)\n",
    "\n",
    "Timesteps=17\n",
    "def Costfunction(params,Agent_Array,Y=Y[:Timesteps],Model=Model,Timesteps=Timesteps):\n",
    "    Y_tilde=Model(params,Timesteps,Agent_Array)\n",
    "    residuals=(Y-Y_tilde)**2\n",
    "    return residuals.sum()\n",
    "\n",
    "print(f\"The value of the cost function is {Costfunction(initial_params,Agent_Array)}\")"
   ]
  },
  {
   "cell_type": "markdown",
   "metadata": {},
   "source": [
    "An intuitive approach for calibrating agent-based adoption models is the use of black-box optimization algorithms that do not need gradients. The disatvantage of those algorithms is their slow convergence. Especially when using many free parameters, black-box optimization is not able to find a good solution within an acceptable time.  \n",
    "Hence we will implement the gradients calculated in the paper \"Efficiently Calibrating Agent-based Models of Innovation Diffusion\".  \n",
    "\n",
    "First, we have to modify the utility function and the F function from above. They now also return their gradients. (Note, that for *F_threshold_wgrad()* the gradient would actually be the delta distribution, but this will kill all gradients, hence we use the gradient to be =1)"
   ]
  },
  {
   "cell_type": "code",
   "execution_count": 13,
   "metadata": {},
   "outputs": [],
   "source": [
    "def utility_func_wgrad(params,X):\n",
    "    utility=0.\n",
    "    for i in range(len(params)):\n",
    "        utility+=params[i]*X[i]\n",
    "    \n",
    "    grad=X\n",
    "    return utility,grad\n",
    "\n",
    "def F_threshold_wgrad(utility):\n",
    "    p_adopt=utility>0\n",
    "    grad=np.ones(len(utility))\n",
    "    return p_adopt,grad\n",
    "\n",
    "def F_gaussian_wgrad(utility,sigma=1):\n",
    "    p_adopt=0.5*(1+specialfunc.erf(utility/(2**0.5*sigma)))\n",
    "    grad=1/(2*sigma**2)**0.5*np.exp(-1*utility**2/(2*sigma**2))\n",
    "    return p_adopt,grad"
   ]
  },
  {
   "cell_type": "markdown",
   "metadata": {},
   "source": [
    "Note that only the parts commented with *NEW* are added to the already defined *Model()*-function."
   ]
  },
  {
   "cell_type": "code",
   "execution_count": 14,
   "metadata": {},
   "outputs": [],
   "source": [
    "def Model_with_gradients(params,Timesteps,Agent_Array=Agent_Array,Countypd=Countypd,utility_func=utility_func_wgrad,\n",
    "                         F=F_threshold_wgrad,PopDensity=PopDensity,Agent_Scale=Agent_Scale,Income=Income,\n",
    "                         Earning=Earning,print_adopter_number=True):\n",
    "    \"\"\"\n",
    "    The Model_with_gradients function takes the weights, number of timesteps and the Agent_Array (X) as input.\n",
    "    Its output is the number of new adopters in each county and each timestep t together with the gradients for the\n",
    "    calibration.\n",
    "    \"\"\"\n",
    "    \n",
    "    # Generate the part of X that is time independant\n",
    "    CountyofAgent=Agent_Array.transpose()[1]\n",
    "    X0=PopDensity[CountyofAgent]\n",
    "    X1=Income[CountyofAgent]\n",
    "    \n",
    "    # Generate an initial opinion\n",
    "    Opinion=np.zeros((Timesteps,len(Agent_Array)))\n",
    "    Opinion[0]=2*np.random.beta(2,8,size=len(Agent_Array))-1\n",
    "    \n",
    "    # Generate an individual threshold for each agent\n",
    "    threshold=np.random.beta(5,2,size=len(Agent_Array))\n",
    "    \n",
    "    # Define the PV_adopters matrix, which counts the number of new adopters at time t in county c\n",
    "    PV_adopters=np.zeros((Timesteps,len(Countypd)))\n",
    "    \n",
    "    # Agents_where is a matrix, that has a 1 in at place (county,agent) \n",
    "    # if the agent lives in that county and a 0 if not. It is used to make the algorithm more efficient later.\n",
    "    Agents_where=np.zeros((len(Countypd),len(Agent_Array))).astype(bool)\n",
    "    for i in range(len(Countypd)):\n",
    "        Agents_where[i]=Agent_Array.transpose()[1]==i\n",
    "        \n",
    "    # NEW: Define the gradient matrices\n",
    "    Grad_f_times_X=np.zeros((len(params),Timesteps,len(Countypd)))\n",
    "    Grad_2_sum=np.zeros((len(params),Timesteps,len(Countypd)))\n",
    "    Grad_temp_timesum=np.zeros((len(params),Timesteps,len(Agent_Array)))\n",
    "    Grad_state1=np.zeros((16,Timesteps,len(Countypd)))\n",
    "    Grad_state_sum=np.zeros((16,Timesteps,len(Countypd)))\n",
    "    Grad_state_temp_timesum=np.zeros((16,Timesteps,len(Agent_Array)))\n",
    "    Grad_prod_temp=np.zeros((Timesteps,len(Agent_Array)))\n",
    "    Grad_prod_temp[0]=np.ones(len(Agent_Array))\n",
    "    \n",
    "    \n",
    "    for t in range(1,Timesteps):\n",
    "        # Generate the part of X that is time dependant\n",
    "        Opinion=SimpleOpinionStep(Opinion,t)\n",
    "        X2=(Opinion[t]+1)/2\n",
    "        X3=Earning[t][CountyofAgent]\n",
    "        \n",
    "        X=np.array([X0,X1,X2,X3])\n",
    "        \n",
    "        utility,grad_utility=utility_func(params,X)\n",
    "        p_adopt,grad_adopt=F(utility-threshold)\n",
    "        \n",
    "        # NEW: COMPUTE THE GRADIENTS\n",
    "        \n",
    "        epsilon=1e-8\n",
    "        # Product part of the gradient\n",
    "        Grad_prod_temp[t]=1-p_adopt\n",
    "        Grad_prod=Grad_prod_temp[:t].prod(axis=0)\n",
    "        \n",
    "        for n in range(len(params)):\n",
    "            # First Summand within the gradients\n",
    "            grad_temp=grad_adopt*grad_utility[n]*Grad_prod\n",
    "            Grad_f_times_X[n][t]=np.stack((grad_temp,)*len(Countypd)).sum(axis=1,where=Agents_where)\n",
    "            # Second Summand within the gradients\n",
    "            Grad_temp_timesum[n][t]=grad_adopt*grad_utility[n]/(1-p_adopt+epsilon)\n",
    "            Grad_2_sum_temp=Grad_temp_timesum[n][:t].sum(axis=0)*p_adopt*Grad_prod\n",
    "            Grad_2_sum[n][t]=np.stack((Grad_2_sum_temp,)*len(Countypd)).sum(axis=1,where=Agents_where)\n",
    "        \n",
    "        \n",
    "        \n",
    "        # END OF: COMPUTE THE GRADIENTS\n",
    "        \n",
    "        # Update the adoption variable within the Agent matrix\n",
    "        Agent_Array[np.where(p_adopt==1)[0],2]=1\n",
    "        \n",
    "        # Count the number of new adopters\n",
    "        PV_adopters[t]=np.stack((Agent_Array.transpose()[2],)*len(Countypd)).sum(axis=1,where=Agents_where)-PV_adopters[:t].sum(axis=0)\n",
    "        if print_adopter_number:\n",
    "            print(f\"New adopters at time {t}: {(PV_adopters[t]/Agent_Scale).sum()}\")\n",
    "    \n",
    "    # NEW: substract the two gradient parts from each other to get the final gradient\n",
    "    Grad=Grad_f_times_X-Grad_2_sum\n",
    "    \n",
    "    PV_adopters/=Agent_Scale\n",
    "    if print_adopter_number:\n",
    "        print(f\"Total number of adopters: {(PV_adopters).sum()}\")\n",
    "    return PV_adopters,Grad"
   ]
  },
  {
   "cell_type": "markdown",
   "metadata": {},
   "source": [
    "The new *Costfunction_with_Gradients* has the summed residuals as well as the gradients as its output."
   ]
  },
  {
   "cell_type": "code",
   "execution_count": 15,
   "metadata": {},
   "outputs": [],
   "source": [
    "def Costfunction_with_Gradients(params,Agent_Array,Y=Y[:Timesteps],Model=Model,Timesteps=Timesteps, print_adopter_number=True):\n",
    "    Y_tilde,Grad_Y=Model_with_gradients(params,Timesteps,Agent_Array=Agent_Array,print_adopter_number=print_adopter_number)\n",
    "    residuals=(Y-Y_tilde)**2\n",
    "    \n",
    "    \"\"\"NEW: Calculate the gradients of the Cost function\"\"\"\n",
    "    Grad=np.zeros(len(params))\n",
    "    for n in range(len(params)):\n",
    "        Grad_temp=(Y-Y_tilde)*Grad_Y[n]\n",
    "        Grad[n]=-2*Grad_temp.sum()\n",
    "    \n",
    "    return residuals.sum(),Grad"
   ]
  },
  {
   "cell_type": "code",
   "execution_count": 16,
   "metadata": {},
   "outputs": [
    {
     "name": "stdout",
     "output_type": "stream",
     "text": [
      "New adopters at time 1: 215800.0\n",
      "New adopters at time 2: 0.0\n",
      "New adopters at time 3: 29400.0\n",
      "New adopters at time 4: 1006800.0\n",
      "New adopters at time 5: 0.0\n",
      "New adopters at time 6: 3200.0\n",
      "New adopters at time 7: 55600.0\n",
      "New adopters at time 8: 0.0\n",
      "New adopters at time 9: 1259400.0\n",
      "New adopters at time 10: 0.0\n",
      "New adopters at time 11: 0.0\n",
      "New adopters at time 12: 0.0\n",
      "New adopters at time 13: 0.0\n",
      "New adopters at time 14: 0.0\n",
      "New adopters at time 15: 0.0\n",
      "New adopters at time 16: 0.0\n",
      "Total number of adopters: 2570200.0\n"
     ]
    }
   ],
   "source": [
    "# reset Agent_Array\n",
    "Agent_Array=MakeAgentArray(Countypd,Agent_Scale)\n",
    "\n",
    "C, grad = Costfunction_with_Gradients(initial_params,Agent_Array)"
   ]
  },
  {
   "cell_type": "markdown",
   "metadata": {},
   "source": [
    "# 5) Calibrating the model\n",
    "Now that we can calculate the gradients of the cost function with respect to the free parameters, we can use gradient-based optimizers for the model calibration. This has a huge advantage compared to use black-box optimizers, namely the relatively fast convergence even for many free parameters.  \n",
    "  \n",
    "Here we will use Adam [3] as our optimizer of choice, but note that we could actually use any gradient-based algorithm, even simple ones such as gradient descent. "
   ]
  },
  {
   "cell_type": "code",
   "execution_count": 17,
   "metadata": {},
   "outputs": [],
   "source": [
    "def adam(params,grad_params,mt,vt,n,lr=0.05, beta=(0.3, 0.5),eps=1e-10):\n",
    "    m_new=beta[0]*mt+(1-beta[0])*grad_params\n",
    "    v_new=beta[1]*vt+(1-beta[1])*grad_params**2\n",
    "    m_corr=m_new/(1-beta[0]**n)\n",
    "    v_corr=v_new/(1-beta[1]**n)\n",
    "    params_new=params-lr*m_corr/(v_corr**0.5+eps)\n",
    "    print(f\"The parameters are {params}\")\n",
    "    print(f\"The gradient of the parameters is {-lr*m_corr/(v_corr**0.5+eps)}\")\n",
    "    return params_new,m_new,v_new"
   ]
  },
  {
   "cell_type": "code",
   "execution_count": 18,
   "metadata": {},
   "outputs": [
    {
     "name": "stdout",
     "output_type": "stream",
     "text": [
      "The parameters are [-0.2  0.4  0.4  0.4]\n",
      "The gradient of the parameters is [-0.05 -0.05 -0.05 -0.05]\n",
      "Optimization step (1/40)\n",
      "The parameters are [-0.25  0.35  0.35  0.35]\n",
      "The gradient of the parameters is [-0.03090816 -0.04050589 -0.01754497 -0.04240709]\n",
      "Optimization step (2/40)\n",
      "The parameters are [-0.28090816  0.30949411  0.33245503  0.30759291]\n",
      "The gradient of the parameters is [ 0.01217857 -0.0035976   0.04091885 -0.02700839]\n",
      "Optimization step (3/40)\n",
      "The parameters are [-0.26872959  0.3058965   0.37337388  0.28058452]\n",
      "The gradient of the parameters is [ 0.03267448  0.02153038  0.04971769 -0.0196224 ]\n",
      "Optimization step (4/40)\n",
      "The parameters are [-0.23605511  0.32742688  0.42309157  0.26096212]\n",
      "The gradient of the parameters is [ 0.03800838  0.02557324  0.04971502 -0.02381676]\n",
      "Optimization step (5/40)\n",
      "The parameters are [-0.19804673  0.35300012  0.47280659  0.23714536]\n",
      "The gradient of the parameters is [ 0.00715937 -0.00246321  0.04660703 -0.03714997]\n",
      "Optimization step (6/40)\n",
      "The parameters are [-0.19088737  0.35053691  0.51941362  0.19999539]\n",
      "The gradient of the parameters is [ 0.02063046  0.01105749  0.04937068 -0.03433545]\n",
      "Optimization step (7/40)\n",
      "The parameters are [-0.17025691  0.3615944   0.56878431  0.16565994]\n",
      "The gradient of the parameters is [-0.02391941 -0.02253555  0.04685736 -0.0393735 ]\n",
      "Optimization step (8/40)\n",
      "The parameters are [-0.19417632  0.33905886  0.61564167  0.12628644]\n",
      "The gradient of the parameters is [ 0.00646749  0.01146068  0.04919101 -0.01894349]\n",
      "Optimization step (9/40)\n",
      "The parameters are [-0.18770883  0.35051953  0.66483267  0.10734295]\n",
      "The gradient of the parameters is [-0.04416894 -0.04462673  0.03271415 -0.03789279]\n",
      "Optimization step (10/40)\n",
      "The parameters are [-0.23187777  0.3058928   0.69754682  0.06945016]\n",
      "The gradient of the parameters is [-0.00685567 -0.03045148  0.03773374 -0.000997  ]\n",
      "Optimization step (11/40)\n",
      "The parameters are [-0.23873343  0.27544132  0.73528056  0.06845316]\n",
      "The gradient of the parameters is [ 0.00120775 -0.04531298  0.02609438 -0.00259582]\n",
      "Optimization step (12/40)\n",
      "The parameters are [-0.23752568  0.23012834  0.76137494  0.06585735]\n",
      "The gradient of the parameters is [-0.02757472 -0.0507699   0.00646945 -0.02512988]\n",
      "Optimization step (13/40)\n",
      "The parameters are [-0.2651004   0.17935845  0.76784439  0.04072746]\n",
      "The gradient of the parameters is [ 0.03616145 -0.00303465  0.03895925  0.03936352]\n",
      "Optimization step (14/40)\n",
      "The parameters are [-0.22893896  0.1763238   0.80680364  0.08009099]\n",
      "The gradient of the parameters is [-0.03712462 -0.0481906  -0.03917209 -0.03892804]\n",
      "Optimization step (15/40)\n",
      "The parameters are [-0.26606358  0.1281332   0.76763155  0.04116295]\n",
      "The gradient of the parameters is [0.02671392 0.00750509 0.02228156 0.02435484]\n",
      "Optimization step (16/40)\n",
      "The parameters are [-0.23934966  0.13563829  0.78991311  0.06551779]\n",
      "The gradient of the parameters is [ 0.01439509 -0.01091739  0.00908318  0.00622357]\n",
      "Optimization step (17/40)\n",
      "The parameters are [-0.22495457  0.1247209   0.79899629  0.07174136]\n",
      "The gradient of the parameters is [-0.01975079 -0.03794101 -0.0220938  -0.02571592]\n",
      "Optimization step (18/40)\n",
      "The parameters are [-0.24470536  0.08677989  0.77690249  0.04602543]\n",
      "The gradient of the parameters is [0.03966246 0.027687   0.03988614 0.03687974]\n",
      "Optimization step (19/40)\n",
      "The parameters are [-0.2050429   0.11446689  0.81678862  0.08290517]\n",
      "The gradient of the parameters is [-0.02914708 -0.03612474 -0.02687308 -0.03116752]\n",
      "Optimization step (20/40)\n",
      "The parameters are [-0.23418998  0.07834215  0.78991555  0.05173765]\n",
      "The gradient of the parameters is [0.01342736 0.00637133 0.02212967 0.01597908]\n",
      "Optimization step (21/40)\n",
      "The parameters are [-0.22076262  0.08471348  0.81204522  0.06771673]\n",
      "The gradient of the parameters is [-0.02344905 -0.02261779 -0.00835739 -0.01281155]\n",
      "Optimization step (22/40)\n",
      "The parameters are [-0.24421167  0.06209569  0.80368783  0.05490518]\n",
      "The gradient of the parameters is [0.02159328 0.0114935  0.02126499 0.01908369]\n",
      "Optimization step (23/40)\n",
      "The parameters are [-0.22261839  0.07358919  0.82495282  0.07398887]\n",
      "The gradient of the parameters is [-0.03046197 -0.03622531 -0.03098772 -0.03297544]\n",
      "Optimization step (24/40)\n",
      "The parameters are [-0.25308036  0.03736387  0.7939651   0.04101343]\n",
      "The gradient of the parameters is [0.03729939 0.0339879  0.03853667 0.03685174]\n",
      "Optimization step (25/40)\n",
      "The parameters are [-0.21578097  0.07135177  0.83250176  0.07786517]\n",
      "The gradient of the parameters is [-0.02267767 -0.03076543 -0.02554204 -0.02740314]\n",
      "Optimization step (26/40)\n",
      "The parameters are [-0.23845865  0.04058634  0.80695972  0.05046203]\n",
      "The gradient of the parameters is [0.01666086 0.00328658 0.00670894 0.01121865]\n",
      "Optimization step (27/40)\n",
      "The parameters are [-0.22179778  0.04387292  0.81366867  0.06168068]\n",
      "The gradient of the parameters is [ 0.000413   -0.00215557  0.00179883  0.00444361]\n",
      "Optimization step (28/40)\n",
      "The parameters are [-0.22138478  0.04171734  0.8154675   0.06612429]\n",
      "The gradient of the parameters is [-0.01523237 -0.00739287 -0.00679503 -0.00584182]\n",
      "Optimization step (29/40)\n",
      "The parameters are [-0.23661716  0.03432448  0.80867246  0.06028248]\n",
      "The gradient of the parameters is [0.03278377 0.03369664 0.03678335 0.03305682]\n",
      "Optimization step (30/40)\n",
      "The parameters are [-0.20383339  0.06802112  0.84545581  0.0933393 ]\n",
      "The gradient of the parameters is [-0.04563932 -0.04526506 -0.04455829 -0.04574615]\n",
      "Optimization step (31/40)\n",
      "The parameters are [-0.2494727   0.02275606  0.80089752  0.04759315]\n",
      "The gradient of the parameters is [0.01525525 0.01430846 0.01449619 0.01214564]\n",
      "Optimization step (32/40)\n",
      "The parameters are [-0.23421745  0.03706452  0.81539371  0.0597388 ]\n",
      "The gradient of the parameters is [0.02248414 0.01387569 0.01718077 0.01508768]\n",
      "Optimization step (33/40)\n",
      "The parameters are [-0.21173331  0.05094022  0.83257448  0.07482647]\n",
      "The gradient of the parameters is [-0.02524758 -0.03128842 -0.02966149 -0.02898672]\n",
      "Optimization step (34/40)\n",
      "The parameters are [-0.23698088  0.0196518   0.80291299  0.04583975]\n",
      "The gradient of the parameters is [0.02687528 0.02663387 0.02852607 0.02920407]\n",
      "Optimization step (35/40)\n",
      "The parameters are [-0.21010561  0.04628567  0.83143906  0.07504382]\n",
      "The gradient of the parameters is [-0.02488466 -0.02298758 -0.02135981 -0.02086906]\n",
      "Optimization step (36/40)\n",
      "The parameters are [-0.23499027  0.02329809  0.81007925  0.05417475]\n",
      "The gradient of the parameters is [0.01351484 0.01355371 0.01521876 0.0195445 ]\n",
      "Optimization step (37/40)\n",
      "The parameters are [-0.22147543  0.0368518   0.82529801  0.07371925]\n",
      "The gradient of the parameters is [-0.00369103 -0.00887539  0.004028   -0.00564579]\n",
      "Optimization step (38/40)\n",
      "The parameters are [-0.22516645  0.02797641  0.82932601  0.06807346]\n",
      "The gradient of the parameters is [-0.0294608  -0.02894943 -0.02200175 -0.02556014]\n",
      "Optimization step (39/40)\n"
     ]
    },
    {
     "data": {
      "image/png": "[encoded data removed]",
      "text/plain": [
       "<Figure size 432x288 with 1 Axes>"
      ]
     },
     "metadata": {
      "needs_background": "light"
     },
     "output_type": "display_data"
    }
   ],
   "source": [
    "OptimizationSteps=40\n",
    "mt=0\n",
    "vt=0\n",
    "params = initial_params\n",
    "c_list=[]\n",
    "    \n",
    "for n in range(1,OptimizationSteps):\n",
    "    # reset Agent_Array\n",
    "    Agent_Array=MakeAgentArray(Countypd,Agent_Scale)\n",
    "    c,grad=Costfunction_with_Gradients(params,Agent_Array,print_adopter_number=False)\n",
    "    c_list.append(c)\n",
    "    params,mt,vt=adam(params,grad,mt,vt,n)   \n",
    "    print(f\"Optimization step ({n}/{OptimizationSteps})\")\n",
    "pl.plot(c_list)\n",
    "pl.show()"
   ]
  },
  {
   "cell_type": "code",
   "execution_count": 19,
   "metadata": {},
   "outputs": [
    {
     "name": "stdout",
     "output_type": "stream",
     "text": [
      "New adopters at time 1: 70400.0\n",
      "New adopters at time 2: 12600.0\n",
      "New adopters at time 3: 22800.0\n",
      "New adopters at time 4: 53400.0\n",
      "New adopters at time 5: 19400.0\n",
      "New adopters at time 6: 38200.0\n",
      "New adopters at time 7: 45800.0\n",
      "New adopters at time 8: 35200.0\n",
      "New adopters at time 9: 88000.0\n",
      "New adopters at time 10: 52400.0\n",
      "New adopters at time 11: 33400.0\n",
      "New adopters at time 12: 52000.0\n",
      "New adopters at time 13: 46200.0\n",
      "New adopters at time 14: 62800.0\n",
      "New adopters at time 15: 87800.0\n",
      "New adopters at time 16: 78600.0\n",
      "Total number of adopters: 799000.0\n"
     ]
    },
    {
     "data": {
      "image/png": "[encoded data removed]",
      "text/plain": [
       "<Figure size 432x288 with 1 Axes>"
      ]
     },
     "metadata": {
      "needs_background": "light"
     },
     "output_type": "display_data"
    }
   ],
   "source": [
    "# reset Agent_Array\n",
    "Agent_Array=MakeAgentArray(Countypd,Agent_Scale)\n",
    "\n",
    "pl.plot(Y_tilde.cumsum(axis=0).sum(axis=1),label=\"Initial model with some start parameters\")\n",
    "pl.plot(Model(params,Timesteps,Agent_Array).cumsum(axis=0).sum(axis=1),label=\"Model after optimization\")\n",
    "pl.plot(Y_kummulative.sum(axis=1),label=\"Real dataset\")\n",
    "pl.legend()\n",
    "pl.plot()\n",
    "pl.show()"
   ]
  },
  {
   "cell_type": "markdown",
   "metadata": {},
   "source": [
    "# Conclusion\n",
    "This notebook portrays the usage of the ABM of Innovation Diffusion that can be calibrated using gradient-based optimizers. Since the toy model is very small, it is also limited in its capabilities. In the paper \"Efficiently Calibrating Agent-based Models of Innovation Diffusion\", a more complex model is used to describe the Diffusion of PV systems in Germany. This model achieves a good fit, but it also needs more computational time. \n",
    "\n",
    "If you want to apply the gradient-based calibration technique, the most interesting part is probably the implementation of the model and the calculation of the gradients within the function `Model_with_gradients`."
   ]
  },
  {
   "cell_type": "markdown",
   "metadata": {},
   "source": [
    "# Resources\n",
    "\n",
    "[1] Deffuant, Guillaume, et al. \"Mixing beliefs among interacting agents.\" Advances in Complex Systems 3.01n04 (2000): 87-98.  \n",
    "[2] Deffuant, Guillaume, et al. \"How can extremism prevail? A study based on the relative agreement interaction model.\" Journal of artificial societies and social simulation 5.4 (2002).  \n",
    "[3] Kingma, D. P., & Ba, J. (2014). Adam: A method for stochastic optimization. arXiv preprint arXiv:1412.6980."
   ]
  },
  {
   "cell_type": "code",
   "execution_count": null,
   "metadata": {},
   "outputs": [],
   "source": []
  }
 ],
 "metadata": {
  "kernelspec": {
   "display_name": "Python 3",
   "language": "python",
   "name": "python3"
  },
  "language_info": {
   "codemirror_mode": {
    "name": "ipython",
    "version": 3
   },
   "file_extension": ".py",
   "mimetype": "text/x-python",
   "name": "python",
   "nbconvert_exporter": "python",
   "pygments_lexer": "ipython3",
   "version": "3.8.8"
  }
 },
 "nbformat": 4,
 "nbformat_minor": 2
}
